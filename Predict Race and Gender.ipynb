{
 "cells": [
  {
   "cell_type": "markdown",
   "id": "120ca870-cd83-4084-a508-862801e35bd5",
   "metadata": {},
   "source": [
    "#### At first import the race and gender pre-trained data file"
   ]
  },
  {
   "cell_type": "code",
   "execution_count": 1,
   "id": "69fd4fb9-6400-43b7-8ff8-18e89ba2fefb",
   "metadata": {
    "tags": []
   },
   "outputs": [],
   "source": [
    "## Loading Trained ML Model to Predict Race and Gender\n",
    "import pickle\n",
    "import warnings\n",
    "warnings.filterwarnings(\"ignore\")\n",
    "\n",
    "# Load Gender ML Model\n",
    "gender_path =\"gender_prediction_model.pkl\"\n",
    "with open (gender_path,'rb') as gender_file:\n",
    "    gender_model = pickle.load(gender_file)\n",
    "\n",
    "# Load Race ML Model\n",
    "\n",
    "race_path = \"race_prediction_model.pkl\"\n",
    "with open (race_path,'rb') as race_file:\n",
    "    race_model = pickle.load(race_file)\n",
    "\n",
    "# function to convert name into matrix\n",
    "def count_letter(name):\n",
    "    letter_matrix ={}\n",
    "    for i in 'abcdefghijklmnopqrstuvwxyz':\n",
    "        letter_matrix[i]=0\n",
    "    for i in name:\n",
    "        if i in letter_matrix:\n",
    "            letter_matrix[i] += 1\n",
    "        else:\n",
    "            letter_matrix[i] = 1\n",
    "    return letter_matrix\n",
    "\n",
    "# Function to predict gender\n",
    "def predict_gender(name):\n",
    "    gender = gender_model.predict([list(count_letter(name.lower()).values())])\n",
    "    return gender[0]\n",
    "\n",
    "# Function to predict Race\n",
    "def predict_race(name):\n",
    "    race = race_model.predict([list(count_letter(name.lower()).values())])\n",
    "    return race[0]"
   ]
  },
  {
   "cell_type": "markdown",
   "id": "cf09e39e-da86-45d3-8418-11b5742be585",
   "metadata": {},
   "source": [
    "#### Predict Gender"
   ]
  },
  {
   "cell_type": "markdown",
   "id": "85b033db-5887-4873-96a7-d4ece84c56f9",
   "metadata": {},
   "source": [
    "##### Enter First name to predict Gender"
   ]
  },
  {
   "cell_type": "code",
   "execution_count": 6,
   "id": "dc754410-9076-4152-9684-f3bafe40874c",
   "metadata": {
    "tags": []
   },
   "outputs": [
    {
     "name": "stdout",
     "output_type": "stream",
     "text": [
      "F\n"
     ]
    }
   ],
   "source": [
    "Enter_First_Name='Mary'\n",
    "print(predict_gender(Enter_First_Name))"
   ]
  },
  {
   "cell_type": "markdown",
   "id": "f7ce67f0-c6bf-4b7e-a738-76d471fc104c",
   "metadata": {},
   "source": [
    "#### Predict Race"
   ]
  },
  {
   "cell_type": "markdown",
   "id": "0a8cea5c-bf86-48cf-908c-6396020ea47b",
   "metadata": {},
   "source": [
    "##### Enter Last Name/Family Name to predict Race"
   ]
  },
  {
   "cell_type": "code",
   "execution_count": 7,
   "id": "65d6c994-a03f-422c-ba65-c5518abc7a2d",
   "metadata": {
    "tags": []
   },
   "outputs": [
    {
     "name": "stdout",
     "output_type": "stream",
     "text": [
      "white\n"
     ]
    }
   ],
   "source": [
    "Enter_Family_or_Last_Name='Smith'\n",
    "print(predict_race(Enter_Family_or_Last_Name))"
   ]
  },
  {
   "cell_type": "code",
   "execution_count": null,
   "id": "093fa3cf-678f-4356-9bbf-cbf49b7c83a1",
   "metadata": {},
   "outputs": [],
   "source": []
  }
 ],
 "metadata": {
  "kernelspec": {
   "display_name": "Python 3 (ipykernel)",
   "language": "python",
   "name": "python3"
  },
  "language_info": {
   "codemirror_mode": {
    "name": "ipython",
    "version": 3
   },
   "file_extension": ".py",
   "mimetype": "text/x-python",
   "name": "python",
   "nbconvert_exporter": "python",
   "pygments_lexer": "ipython3",
   "version": "3.11.3"
  }
 },
 "nbformat": 4,
 "nbformat_minor": 5
}
